{
 "cells": [
  {
   "cell_type": "code",
   "execution_count": 1,
   "metadata": {},
   "outputs": [],
   "source": [
    "import PyPDF2\n",
    "import sys\n",
    "import csv\n",
    "from selenium import webdriver\n",
    "import time\n",
    "import pandas as pd"
   ]
  },
  {
   "cell_type": "code",
   "execution_count": 9,
   "metadata": {},
   "outputs": [],
   "source": [
    "# read data from xlsx \n",
    "df = pd.read_excel('occupation-recommendation-data.xlsx', index_col='S.No')\n",
    "# drop the columns that are not required (drop all columns from 29) \n",
    "df = df.iloc[:,:28]\n",
    "# Renaming Columns\n",
    "df = df.rename(columns = {'S.No':'Sr.No','Type (QP-NOS /NOS/Expository)':'Type','Name of the QP':'QP Name','QPRef.ID':'QP ID','Theory (hours) for Compulsory NOSs':'Theory for Compulsory NOSs (hours)','Practical (hours) for Compulsory NOSs':'Practical for Compulsory NOSs (hours)','GRAND TOTAL Minimum hours duration for QP':'Minimum hours duration for QP (hours)'})\n",
    "# Handle null values\n",
    "df = df.fillna(0)\n",
    "df.to_csv('import-data.csv')\n"
   ]
  },
  {
   "cell_type": "code",
   "execution_count": 3,
   "metadata": {},
   "outputs": [],
   "source": [
    "import csv\n",
    "import json\n",
    "\n",
    "csvfile = open('import-data.csv', 'r')\n",
    "jsonfile = open('file.json', 'w')\n",
    "\n",
    "reader = csv.DictReader(csvfile)\n",
    "for row in reader:\n",
    "    json.dump(row, jsonfile)\n",
    "    jsonfile.write('\\n')"
   ]
  },
  {
   "cell_type": "code",
   "execution_count": 5,
   "metadata": {},
   "outputs": [
    {
     "ename": "JSONDecodeError",
     "evalue": "Extra data: line 2 column 1 (char 938)",
     "output_type": "error",
     "traceback": [
      "\u001b[0;31m---------------------------------------------------------------------------\u001b[0m",
      "\u001b[0;31mJSONDecodeError\u001b[0m                           Traceback (most recent call last)",
      "\u001b[0;32m/var/folders/04/ymbjd6dj4fg_pjp5__7m2hz40000gn/T/ipykernel_1561/890854568.py\u001b[0m in \u001b[0;36m<module>\u001b[0;34m\u001b[0m\n\u001b[1;32m      2\u001b[0m \u001b[0;34m\u001b[0m\u001b[0m\n\u001b[1;32m      3\u001b[0m \u001b[0;32mwith\u001b[0m \u001b[0mopen\u001b[0m\u001b[0;34m(\u001b[0m\u001b[0;34m\"file.json\"\u001b[0m\u001b[0;34m,\u001b[0m \u001b[0;34m\"r\"\u001b[0m\u001b[0;34m)\u001b[0m \u001b[0;32mas\u001b[0m \u001b[0mread_file\u001b[0m\u001b[0;34m:\u001b[0m\u001b[0;34m\u001b[0m\u001b[0;34m\u001b[0m\u001b[0m\n\u001b[0;32m----> 4\u001b[0;31m     \u001b[0mdata\u001b[0m \u001b[0;34m=\u001b[0m \u001b[0mjson\u001b[0m\u001b[0;34m.\u001b[0m\u001b[0mload\u001b[0m\u001b[0;34m(\u001b[0m\u001b[0mread_file\u001b[0m\u001b[0;34m)\u001b[0m\u001b[0;34m\u001b[0m\u001b[0;34m\u001b[0m\u001b[0m\n\u001b[0m\u001b[1;32m      5\u001b[0m \u001b[0mresult\u001b[0m \u001b[0;34m=\u001b[0m \u001b[0;34m[\u001b[0m\u001b[0mjson\u001b[0m\u001b[0;34m.\u001b[0m\u001b[0mdumps\u001b[0m\u001b[0;34m(\u001b[0m\u001b[0mrecord\u001b[0m\u001b[0;34m)\u001b[0m \u001b[0;32mfor\u001b[0m \u001b[0mrecord\u001b[0m \u001b[0;32min\u001b[0m \u001b[0mdata\u001b[0m\u001b[0;34m]\u001b[0m\u001b[0;34m\u001b[0m\u001b[0;34m\u001b[0m\u001b[0m\n\u001b[1;32m      6\u001b[0m \u001b[0;32mwith\u001b[0m \u001b[0mopen\u001b[0m\u001b[0;34m(\u001b[0m\u001b[0;34m'nd-proceesed.json'\u001b[0m\u001b[0;34m,\u001b[0m \u001b[0;34m'w'\u001b[0m\u001b[0;34m)\u001b[0m \u001b[0;32mas\u001b[0m \u001b[0mobj\u001b[0m\u001b[0;34m:\u001b[0m\u001b[0;34m\u001b[0m\u001b[0;34m\u001b[0m\u001b[0m\n",
      "\u001b[0;32m/opt/anaconda3/lib/python3.8/json/__init__.py\u001b[0m in \u001b[0;36mload\u001b[0;34m(fp, cls, object_hook, parse_float, parse_int, parse_constant, object_pairs_hook, **kw)\u001b[0m\n\u001b[1;32m    291\u001b[0m     \u001b[0mkwarg\u001b[0m\u001b[0;34m;\u001b[0m \u001b[0motherwise\u001b[0m\u001b[0;31m \u001b[0m\u001b[0;31m`\u001b[0m\u001b[0;31m`\u001b[0m\u001b[0mJSONDecoder\u001b[0m\u001b[0;31m`\u001b[0m\u001b[0;31m`\u001b[0m \u001b[0;32mis\u001b[0m \u001b[0mused\u001b[0m\u001b[0;34m.\u001b[0m\u001b[0;34m\u001b[0m\u001b[0;34m\u001b[0m\u001b[0m\n\u001b[1;32m    292\u001b[0m     \"\"\"\n\u001b[0;32m--> 293\u001b[0;31m     return loads(fp.read(),\n\u001b[0m\u001b[1;32m    294\u001b[0m         \u001b[0mcls\u001b[0m\u001b[0;34m=\u001b[0m\u001b[0mcls\u001b[0m\u001b[0;34m,\u001b[0m \u001b[0mobject_hook\u001b[0m\u001b[0;34m=\u001b[0m\u001b[0mobject_hook\u001b[0m\u001b[0;34m,\u001b[0m\u001b[0;34m\u001b[0m\u001b[0;34m\u001b[0m\u001b[0m\n\u001b[1;32m    295\u001b[0m         \u001b[0mparse_float\u001b[0m\u001b[0;34m=\u001b[0m\u001b[0mparse_float\u001b[0m\u001b[0;34m,\u001b[0m \u001b[0mparse_int\u001b[0m\u001b[0;34m=\u001b[0m\u001b[0mparse_int\u001b[0m\u001b[0;34m,\u001b[0m\u001b[0;34m\u001b[0m\u001b[0;34m\u001b[0m\u001b[0m\n",
      "\u001b[0;32m/opt/anaconda3/lib/python3.8/json/__init__.py\u001b[0m in \u001b[0;36mloads\u001b[0;34m(s, cls, object_hook, parse_float, parse_int, parse_constant, object_pairs_hook, **kw)\u001b[0m\n\u001b[1;32m    355\u001b[0m             \u001b[0mparse_int\u001b[0m \u001b[0;32mis\u001b[0m \u001b[0;32mNone\u001b[0m \u001b[0;32mand\u001b[0m \u001b[0mparse_float\u001b[0m \u001b[0;32mis\u001b[0m \u001b[0;32mNone\u001b[0m \u001b[0;32mand\u001b[0m\u001b[0;34m\u001b[0m\u001b[0;34m\u001b[0m\u001b[0m\n\u001b[1;32m    356\u001b[0m             parse_constant is None and object_pairs_hook is None and not kw):\n\u001b[0;32m--> 357\u001b[0;31m         \u001b[0;32mreturn\u001b[0m \u001b[0m_default_decoder\u001b[0m\u001b[0;34m.\u001b[0m\u001b[0mdecode\u001b[0m\u001b[0;34m(\u001b[0m\u001b[0ms\u001b[0m\u001b[0;34m)\u001b[0m\u001b[0;34m\u001b[0m\u001b[0;34m\u001b[0m\u001b[0m\n\u001b[0m\u001b[1;32m    358\u001b[0m     \u001b[0;32mif\u001b[0m \u001b[0mcls\u001b[0m \u001b[0;32mis\u001b[0m \u001b[0;32mNone\u001b[0m\u001b[0;34m:\u001b[0m\u001b[0;34m\u001b[0m\u001b[0;34m\u001b[0m\u001b[0m\n\u001b[1;32m    359\u001b[0m         \u001b[0mcls\u001b[0m \u001b[0;34m=\u001b[0m \u001b[0mJSONDecoder\u001b[0m\u001b[0;34m\u001b[0m\u001b[0;34m\u001b[0m\u001b[0m\n",
      "\u001b[0;32m/opt/anaconda3/lib/python3.8/json/decoder.py\u001b[0m in \u001b[0;36mdecode\u001b[0;34m(self, s, _w)\u001b[0m\n\u001b[1;32m    338\u001b[0m         \u001b[0mend\u001b[0m \u001b[0;34m=\u001b[0m \u001b[0m_w\u001b[0m\u001b[0;34m(\u001b[0m\u001b[0ms\u001b[0m\u001b[0;34m,\u001b[0m \u001b[0mend\u001b[0m\u001b[0;34m)\u001b[0m\u001b[0;34m.\u001b[0m\u001b[0mend\u001b[0m\u001b[0;34m(\u001b[0m\u001b[0;34m)\u001b[0m\u001b[0;34m\u001b[0m\u001b[0;34m\u001b[0m\u001b[0m\n\u001b[1;32m    339\u001b[0m         \u001b[0;32mif\u001b[0m \u001b[0mend\u001b[0m \u001b[0;34m!=\u001b[0m \u001b[0mlen\u001b[0m\u001b[0;34m(\u001b[0m\u001b[0ms\u001b[0m\u001b[0;34m)\u001b[0m\u001b[0;34m:\u001b[0m\u001b[0;34m\u001b[0m\u001b[0;34m\u001b[0m\u001b[0m\n\u001b[0;32m--> 340\u001b[0;31m             \u001b[0;32mraise\u001b[0m \u001b[0mJSONDecodeError\u001b[0m\u001b[0;34m(\u001b[0m\u001b[0;34m\"Extra data\"\u001b[0m\u001b[0;34m,\u001b[0m \u001b[0ms\u001b[0m\u001b[0;34m,\u001b[0m \u001b[0mend\u001b[0m\u001b[0;34m)\u001b[0m\u001b[0;34m\u001b[0m\u001b[0;34m\u001b[0m\u001b[0m\n\u001b[0m\u001b[1;32m    341\u001b[0m         \u001b[0;32mreturn\u001b[0m \u001b[0mobj\u001b[0m\u001b[0;34m\u001b[0m\u001b[0;34m\u001b[0m\u001b[0m\n\u001b[1;32m    342\u001b[0m \u001b[0;34m\u001b[0m\u001b[0m\n",
      "\u001b[0;31mJSONDecodeError\u001b[0m: Extra data: line 2 column 1 (char 938)"
     ]
    }
   ],
   "source": [
    "import json\n",
    "\n",
    "with open(\"file.json\", \"r\") as read_file:\n",
    "    data = json.load(read_file)\n",
    "result = [json.dumps(record) for record in data]\n",
    "with open('nd-proceesed.json', 'w') as obj:\n",
    "    for i in result:\n",
    "        obj.write(i+'\\n')"
   ]
  },
  {
   "cell_type": "code",
   "execution_count": null,
   "metadata": {},
   "outputs": [],
   "source": [
    "\n",
    "a = df['Sector'].unique()\n",
    "a\n",
    "#a.to_csv('sector.csv')\n",
    "#sector_def = pd.read_csv('sector.csv')\n",
    "#sector_def"
   ]
  },
  {
   "cell_type": "code",
   "execution_count": 27,
   "metadata": {},
   "outputs": [],
   "source": [
    "\n",
    "a = df['Educational Qualification'].value_counts()\n",
    "a.to_csv('educationlevel.csv')\n",
    "# 0 - cannot read and write/can read some \n",
    "# 1 - can read and write but no formal education\n",
    "# 2 - below primary (Class 1-5)\n",
    "# 3 - primary school education (Cleared class 5)\n",
    "# 4 - middle school education (Cleared class 8)\n",
    "# 5 - secondary school education (Cleared class 10) \n",
    "# 6 - higher secondary school education (Cleared class 12)\n",
    "# 7 - Non-technical Diploma\n",
    "# 8 - Technical Diploma\n",
    "# 9 - ITI\n",
    "# 10 - Graduate in non-STEM\n",
    "# 11 - Graduate in STEM\n",
    "# 12 - Masters\n",
    "# 13 - Doctorate\n",
    "\n",
    "ITI/Diploma,31\n",
    "Diploma,23\n",
    "\n",
    "\n",
    "\n",
    "mappings = {\n",
    "    0: 'desktopOS', 'iOS': 'mobileOS',\n",
    "    1: ,\n",
    "    2: ,\n",
    "    3: '5th Class ,Preferably', '5th Class', '5th Class Pass ,Preferably', '5th Class, Preferably', '5th Standard'\n",
    "    4: '8th Class', '8th Class, Preferably', '8th Class ,Preferably', '8th Standard', \n",
    "    5: '10th Class','10th Class ,Preferably', '10th Standard', '10th Class,Preferably '\n",
    "    6: '12th Class', '12th Class, Preferably',\n",
    "    7: ,\n",
    "    8: ,\n",
    "    9: ,\n",
    "    10: 'Graduate',\n",
    "    11: \"Bachelor’s Degree in Engineering / Technology / Statistics / Mathematics / Computer Science\",\n",
    "    12: ,\n",
    "    13: ,\n",
    "    14: , \n",
    "\n",
    "    'MacOS': 'desktopOS', 'Windows': 'desktopOS',\n",
    "    'AndroidOS': 'mobileOS'\n",
    "}\n"
   ]
  },
  {
   "cell_type": "code",
   "execution_count": 11,
   "metadata": {},
   "outputs": [
    {
     "data": {
      "text/plain": [
       "[<selenium.webdriver.remote.webelement.WebElement (session=\"E36B12F2-8081-4E22-8F9D-2B7DC73DCBF0\", element=\"node-9406A972-282F-4CA7-86F2-F03334293050\")>]"
      ]
     },
     "execution_count": 11,
     "metadata": {},
     "output_type": "execute_result"
    }
   ],
   "source": [
    "url = 'https://www.nqr.gov.in/qualifications-register/search?pager=true&field_qualification_title__value=&field_anticipated_volume_of_trai_value=&sector=26&level=&job_des=&paged=1'\n",
    "driver = webdriver.Safari()\n",
    "driver.get(url)\n",
    "links= driver.find_elements_by_xpath('//*[@id=\"skipcontent\"]/div[2]/div[2]/div/div[2]/div[1]/a')\n",
    "\n",
    "for link in links:\n",
    "    \n",
    "\n",
    "# try:\n",
    "    \n",
    "#     gotit.click()\n",
    "#     downloadcsv= driver.find_element_by_css_selector('.icon-csv')\n",
    "\n",
    "#     downloadcsv.click()\n",
    "\n",
    "#     time.sleep(5)\n",
    "\n",
    "#     driver.quit()\n",
    "\n",
    "# except:\n",
    "\n",
    "# print (\"Invalid URL\")"
   ]
  },
  {
   "cell_type": "code",
   "execution_count": null,
   "metadata": {},
   "outputs": [],
   "source": [
    "!pip install beautifulSoup\n",
    "import beautifulSoup as bs\n",
    "\n",
    "\n",
    "def check_validity(my_url):\n",
    "    try:\n",
    "        urlopen(my_url)\n",
    "        print(\"Valid URL\")\n",
    "    except IOError:\n",
    "        print (\"Invalid URL\")\n",
    "        sys.exit()\n",
    "\n",
    "\n",
    "def get_pdfs(my_url):\n",
    "    links = []\n",
    "    html = urlopen(my_url).read()\n",
    "    html_page = bs(html, features=\"lxml\") \n",
    "    og_url = html_page.find(\"meta\",  property = \"og:url\")\n",
    "    base = urlparse(my_url)\n",
    "    print(\"base\",base)\n",
    "    for link in html_page.find_all('a'):\n",
    "        current_link = link.get('href')\n",
    "        if current_link.endswith('pdf'):\n",
    "            if og_url:\n",
    "                print(\"currentLink\",current_link)\n",
    "                links.append(og_url[\"content\"] + current_link)\n",
    "            else:\n",
    "                links.append(base.scheme + \"://\" + base.netloc + current_link)\n",
    "\n",
    "    for link in links:\n",
    "        try: \n",
    "            wget.download(link)\n",
    "        except:\n",
    "            print(\" \\n \\n Unable to Download A File \\n\")\n",
    "\n",
    "            "
   ]
  },
  {
   "cell_type": "code",
   "execution_count": null,
   "metadata": {},
   "outputs": [],
   "source": [
    "filename = '../input/manifesto/manibook'\n",
    "open_filename = open(filename, 'rb')\n",
    "\n",
    "ind_manifesto = PyPDF2.PdfFileReader(open_filename)"
   ]
  }
 ],
 "metadata": {
  "interpreter": {
   "hash": "aee8b7b246df8f9039afb4144a1f6fd8d2ca17a180786b69acc140d282b71a49"
  },
  "kernelspec": {
   "display_name": "Python 3.9.0 64-bit",
   "language": "python",
   "name": "python3"
  },
  "language_info": {
   "codemirror_mode": {
    "name": "ipython",
    "version": 3
   },
   "file_extension": ".py",
   "mimetype": "text/x-python",
   "name": "python",
   "nbconvert_exporter": "python",
   "pygments_lexer": "ipython3",
   "version": "3.8.8"
  },
  "orig_nbformat": 4
 },
 "nbformat": 4,
 "nbformat_minor": 2
}
